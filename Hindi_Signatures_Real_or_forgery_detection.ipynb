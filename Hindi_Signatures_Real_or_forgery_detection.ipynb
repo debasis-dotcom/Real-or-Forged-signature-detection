{
  "nbformat": 4,
  "nbformat_minor": 0,
  "metadata": {
    "colab": {
      "name": "Hindi_Signatures_Real_or_forgery_detection.ipynb",
      "provenance": [],
      "collapsed_sections": []
    },
    "language_info": {
      "codemirror_mode": {
        "name": "ipython",
        "version": 3
      },
      "file_extension": ".py",
      "mimetype": "text/x-python",
      "name": "python",
      "nbconvert_exporter": "python",
      "pygments_lexer": "ipython3",
      "version": "3.6.5"
    },
    "kernelspec": {
      "name": "python3",
      "display_name": "Python 3"
    },
    "accelerator": "GPU"
  },
  "cells": [
    {
      "cell_type": "markdown",
      "metadata": {
        "id": "GTEqqZMIiom-"
      },
      "source": [
        "### Problem Statement\n",
        "Signature is one of the most popular and commonly accepted biometric hallmarks that has been used since the ancient times for verifying different entities related to human beings, viz. documents, forms, bank checks, individuals, etc. Therefore, signature verification is a critical task and many efforts have been made to remove the uncertainty involved in the manual authentication procedure, which makes signature verification an important research line in the field of machine learning and pattern recognition. \n",
        "\n",
        "\n",
        "In this notebook, we model a writer independent **signature verification** task with a **convolutional Siamese network**.\n",
        "\n"
      ]
    },
    {
      "cell_type": "code",
      "metadata": {
        "id": "_kXL5w86nm1T",
        "outputId": "f40a3f50-bc37-47c6-d2ed-10c155b0c49d",
        "colab": {
          "base_uri": "https://localhost:8080/",
          "height": 34
        }
      },
      "source": [
        "from google.colab import drive\n",
        "drive.mount('/content/drive')"
      ],
      "execution_count": 1,
      "outputs": [
        {
          "output_type": "stream",
          "text": [
            "Mounted at /content/drive\n"
          ],
          "name": "stdout"
        }
      ]
    },
    {
      "cell_type": "code",
      "metadata": {
        "id": "z5aDCGKFnWEd"
      },
      "source": [
        "import sys\n",
        "import numpy as np\n",
        "import pickle\n",
        "import os\n",
        "import matplotlib.pyplot as plt\n",
        "%matplotlib inline\n",
        "\n",
        "import cv2\n",
        "import time\n",
        "import itertools\n",
        "import random\n",
        "\n",
        "from sklearn.utils import shuffle\n",
        "\n",
        "import tensorflow as tf\n",
        "from keras.models import Sequential\n",
        "from keras.optimizers import Adam, RMSprop\n",
        "from keras.layers import Conv2D, ZeroPadding2D, Activation, Input, concatenate, Dropout\n",
        "from keras.models import Model\n",
        "\n",
        "from keras.layers.normalization import BatchNormalization\n",
        "from keras.layers.pooling import MaxPooling2D\n",
        "from keras.layers.merge import Concatenate\n",
        "from keras.layers.core import Lambda, Flatten, Dense\n",
        "from keras.initializers import glorot_uniform\n",
        "\n",
        "from keras.engine.topology import Layer\n",
        "from keras.regularizers import l2\n",
        "from keras import backend as K\n",
        "from keras.callbacks import EarlyStopping, ModelCheckpoint, ReduceLROnPlateau"
      ],
      "execution_count": 2,
      "outputs": []
    },
    {
      "cell_type": "markdown",
      "metadata": {
        "id": "rQ6uGxWagd1G"
      },
      "source": [
        "### Dataset Links:\n",
        "\n",
        "https://drive.google.com/open?id=0B29vNACcjvzVc1RfVkg5dUh2b1E"
      ]
    },
    {
      "cell_type": "markdown",
      "metadata": {
        "id": "V6kP3WD_hlYA"
      },
      "source": [
        "### About the Dataset:\n",
        "\n",
        "\n",
        "The BHSig260 signature dataset contains the signatures of 260 persons, among them 100 were signed in Bengali and 160 are signed in Hindi. \n",
        "\n",
        "For each of the signers, 24 genuine and 30 forged signatures are available. This results in 100 × 24 = 2, 400 genuine and 100 × 30 = 3, 000 forged signatures in Bengali, and 160 × 24 = 3, 840 genuine and 160×30 = 4, 800 forged signatures in Hindi.\n",
        "\n",
        "In this task we are considering only Hindi singatures for easeness. \n",
        "\n",
        "\n",
        "**Paper Link:**  https://arxiv.org/pdf/1707.02131.pdf"
      ]
    },
    {
      "cell_type": "code",
      "metadata": {
        "id": "gUTs4SGb1dXN"
      },
      "source": [
        "project_path = \"/content/drive/My Drive/Colab_Notebooks/Neural_Networks/Advance_Computer_vision/Signature_Detection/\""
      ],
      "execution_count": 11,
      "outputs": []
    },
    {
      "cell_type": "code",
      "metadata": {
        "id": "jLLR_9XE2BEe"
      },
      "source": [
        "from zipfile import ZipFile\n",
        "\n",
        "with ZipFile(project_path+'BHSig260.zip', 'r') as z:\n",
        "  z.extractall()"
      ],
      "execution_count": 12,
      "outputs": []
    },
    {
      "cell_type": "markdown",
      "metadata": {
        "id": "4riEsNPriAzR"
      },
      "source": [
        "### Considering only Hindi signatures from the dataset."
      ]
    },
    {
      "cell_type": "code",
      "metadata": {
        "id": "9JUlueyvnWEh"
      },
      "source": [
        "path = \"./BHSig260/Hindi/\""
      ],
      "execution_count": 13,
      "outputs": []
    },
    {
      "cell_type": "code",
      "metadata": {
        "id": "Rp9uAdz8nWEi"
      },
      "source": [
        "# Get the list of all directories and sort them\n",
        "dir_list = next(os.walk(path))[1]\n",
        "dir_list.sort()"
      ],
      "execution_count": 14,
      "outputs": []
    },
    {
      "cell_type": "code",
      "metadata": {
        "id": "RGVjXiD33BVC",
        "outputId": "80e58ee0-c1bb-490e-edc1-595a189cc4df",
        "colab": {
          "base_uri": "https://localhost:8080/",
          "height": 34
        }
      },
      "source": [
        "dir_list[:10]"
      ],
      "execution_count": 16,
      "outputs": [
        {
          "output_type": "execute_result",
          "data": {
            "text/plain": [
              "['001', '002', '003', '004', '005', '006', '007', '008', '009', '010']"
            ]
          },
          "metadata": {
            "tags": []
          },
          "execution_count": 16
        }
      ]
    },
    {
      "cell_type": "code",
      "metadata": {
        "id": "-CvQ3iSQiIvh",
        "outputId": "62c9dff4-f189-4860-efc0-3b47e37c6848",
        "colab": {
          "base_uri": "https://localhost:8080/",
          "height": 34
        }
      },
      "source": [
        "len(dir_list)"
      ],
      "execution_count": 19,
      "outputs": [
        {
          "output_type": "execute_result",
          "data": {
            "text/plain": [
              "160"
            ]
          },
          "metadata": {
            "tags": []
          },
          "execution_count": 19
        }
      ]
    },
    {
      "cell_type": "code",
      "metadata": {
        "id": "tgDwb6QinWEk"
      },
      "source": [
        "# For each person segregate the genuine signatures from the forged signatures\n",
        "# Genuine signatures are stored in the list \"orig_groups\"\n",
        "# Forged signatures are stored in the list \"forged_groups\"\n",
        "orig_groups, forg_groups = [], []\n",
        "for directory in dir_list:\n",
        "    images = os.listdir(path+directory)\n",
        "    images.sort()\n",
        "    images = [path+directory+'/'+x for x in images]\n",
        "    forg_groups.append(images[:30]) # First 30 signatures in each folder are forrged\n",
        "    orig_groups.append(images[30:]) # Next 24 signatures are genuine"
      ],
      "execution_count": 17,
      "outputs": []
    },
    {
      "cell_type": "code",
      "metadata": {
        "id": "d3I2PbRpnWEm",
        "outputId": "e52c1ebb-6348-466a-adaf-8c835b3e1d68",
        "colab": {
          "base_uri": "https://localhost:8080/",
          "height": 34
        }
      },
      "source": [
        "# Quick check to confirm we have data of all the 160 individuals\n",
        "len(orig_groups), len(forg_groups)"
      ],
      "execution_count": 18,
      "outputs": [
        {
          "output_type": "execute_result",
          "data": {
            "text/plain": [
              "(160, 160)"
            ]
          },
          "metadata": {
            "tags": []
          },
          "execution_count": 18
        }
      ]
    },
    {
      "cell_type": "code",
      "metadata": {
        "id": "J2wsugOEnWEq"
      },
      "source": [
        "orig_lengths = [len(x) for x in orig_groups]\n",
        "forg_lengths = [len(x) for x in forg_groups]"
      ],
      "execution_count": 20,
      "outputs": []
    },
    {
      "cell_type": "code",
      "metadata": {
        "id": "k2BcZNg4nWEr",
        "outputId": "733327b3-2902-45a2-ff09-bb8d5810c4fe",
        "colab": {
          "base_uri": "https://localhost:8080/",
          "height": 54
        }
      },
      "source": [
        "# Quick check to confirm that there are 24 Genuine signatures for each individual\n",
        "print(orig_lengths)"
      ],
      "execution_count": 21,
      "outputs": [
        {
          "output_type": "stream",
          "text": [
            "[24, 24, 24, 24, 24, 24, 24, 24, 24, 24, 24, 24, 24, 24, 24, 24, 24, 24, 24, 24, 24, 24, 24, 24, 24, 24, 24, 24, 24, 24, 24, 24, 24, 24, 24, 24, 24, 24, 24, 24, 24, 24, 24, 24, 24, 24, 24, 24, 24, 24, 24, 24, 24, 24, 24, 24, 24, 24, 24, 24, 24, 24, 24, 24, 24, 24, 24, 24, 24, 24, 24, 24, 24, 24, 24, 24, 24, 24, 24, 24, 24, 24, 24, 24, 24, 24, 24, 24, 24, 24, 24, 24, 24, 24, 24, 24, 24, 24, 24, 24, 24, 24, 24, 24, 24, 24, 24, 24, 24, 24, 24, 24, 24, 24, 24, 24, 24, 24, 24, 24, 24, 24, 24, 24, 24, 24, 24, 24, 24, 24, 24, 24, 24, 24, 24, 24, 24, 24, 24, 24, 24, 24, 24, 24, 24, 24, 24, 24, 24, 24, 24, 24, 24, 24, 24, 24, 24, 24, 24, 24]\n"
          ],
          "name": "stdout"
        }
      ]
    },
    {
      "cell_type": "code",
      "metadata": {
        "id": "6BRlxrMynWEu",
        "outputId": "b1334831-f2ab-43de-c03b-bba2c5a3c904",
        "colab": {
          "base_uri": "https://localhost:8080/",
          "height": 54
        }
      },
      "source": [
        "# Quick check to confirm that there are 30 Forged signatures for each individual\n",
        "print(forg_lengths)"
      ],
      "execution_count": 22,
      "outputs": [
        {
          "output_type": "stream",
          "text": [
            "[30, 30, 30, 30, 30, 30, 30, 30, 30, 30, 30, 30, 30, 30, 30, 30, 30, 30, 30, 30, 30, 30, 30, 30, 30, 30, 30, 30, 30, 30, 30, 30, 30, 30, 30, 30, 30, 30, 30, 30, 30, 30, 30, 30, 30, 30, 30, 30, 30, 30, 30, 30, 30, 30, 30, 30, 30, 30, 30, 30, 30, 30, 30, 30, 30, 30, 30, 30, 30, 30, 30, 30, 30, 30, 30, 30, 30, 30, 30, 30, 30, 30, 30, 30, 30, 30, 30, 30, 30, 30, 30, 30, 30, 30, 30, 30, 30, 30, 30, 30, 30, 30, 30, 30, 30, 30, 30, 30, 30, 30, 30, 30, 30, 30, 30, 30, 30, 30, 30, 30, 30, 30, 30, 30, 30, 30, 30, 30, 30, 30, 30, 30, 30, 30, 30, 30, 30, 30, 30, 30, 30, 30, 30, 30, 30, 30, 30, 30, 30, 30, 30, 30, 30, 30, 30, 30, 30, 30, 30, 30]\n"
          ],
          "name": "stdout"
        }
      ]
    },
    {
      "cell_type": "markdown",
      "metadata": {
        "id": "qEnPfM3YnWEw"
      },
      "source": [
        "#### Train-Validation-Test Split\n",
        "* Signatures of 120 people are used for training\n",
        "* Signatures of 20 people are used for validation\n",
        "* Signatures of 20 people are used for testing"
      ]
    },
    {
      "cell_type": "code",
      "metadata": {
        "id": "CKzLFT5snWEx"
      },
      "source": [
        "orig_train, orig_val, orig_test = orig_groups[:120], orig_groups[120:140], orig_groups[140:]\n",
        "forg_train, forg_val, forg_test = forg_groups[:120], forg_groups[120:140], forg_groups[140:]"
      ],
      "execution_count": 23,
      "outputs": []
    },
    {
      "cell_type": "code",
      "metadata": {
        "id": "tB0Q2clbnWE0"
      },
      "source": [
        "# Delete unnecessary variables\n",
        "del orig_groups, forg_groups"
      ],
      "execution_count": 24,
      "outputs": []
    },
    {
      "cell_type": "code",
      "metadata": {
        "id": "efvMVtVanWE2"
      },
      "source": [
        "# All the images will be converted to the same size before processing\n",
        "img_h, img_w = 155, 220"
      ],
      "execution_count": 25,
      "outputs": []
    },
    {
      "cell_type": "code",
      "metadata": {
        "id": "dSxGYc3ZnWE5"
      },
      "source": [
        "def visualize_sample_signature():\n",
        "    '''Function to randomly select a signature from train set and\n",
        "    print two genuine copies and one forged copy'''\n",
        "    fig, (ax1, ax2, ax3) = plt.subplots(1, 3, figsize = (10, 10))\n",
        "    k = np.random.randint(len(orig_train))\n",
        "    orig_img_names = random.sample(orig_train[k], 2)\n",
        "    forg_img_name = random.sample(forg_train[k], 1)\n",
        "    orig_img1 = cv2.imread(orig_img_names[0], 0)\n",
        "    orig_img2 = cv2.imread(orig_img_names[1], 0)\n",
        "    forg_img = cv2.imread(forg_img_name[0], 0)\n",
        "    orig_img1 = cv2.resize(orig_img1, (img_w, img_h))\n",
        "    orig_img2 = cv2.resize(orig_img2, (img_w, img_h))\n",
        "    forg_img = cv2.resize(forg_img, (img_w, img_h))\n",
        "\n",
        "    ax1.imshow(orig_img1, cmap = 'gray')\n",
        "    ax2.imshow(orig_img2, cmap = 'gray')\n",
        "    ax3.imshow(forg_img, cmap = 'gray')\n",
        "\n",
        "    ax1.set_title('Genuine Copy')\n",
        "    ax1.axis('off')\n",
        "    ax2.set_title('Genuine Copy')\n",
        "    ax2.axis('off')\n",
        "    ax3.set_title('Forged Copy')\n",
        "    ax3.axis('off')"
      ],
      "execution_count": 26,
      "outputs": []
    },
    {
      "cell_type": "code",
      "metadata": {
        "id": "1ZsvrJh6nWE7",
        "outputId": "bb21c244-9434-4c8e-c305-4b3c61e689a0",
        "colab": {
          "base_uri": "https://localhost:8080/",
          "height": 163
        }
      },
      "source": [
        "visualize_sample_signature()"
      ],
      "execution_count": 27,
      "outputs": [
        {
          "output_type": "display_data",
          "data": {
            "image/png": "[encoded data removed]",
            "text/plain": [
              "<Figure size 720x720 with 3 Axes>"
            ]
          },
          "metadata": {
            "tags": [],
            "needs_background": "light"
          }
        }
      ]
    },
    {
      "cell_type": "code",
      "metadata": {
        "id": "_ck9wd_AnWFa"
      },
      "source": [
        "def generate_batch(orig_groups, forg_groups, batch_size = 32):\n",
        "    '''Function to generate a batch of data with batch_size number of data points\n",
        "    Half of the data points will be Genuine-Genuine pairs and half will be Genuine-Forged pairs'''\n",
        "    while True:\n",
        "        orig_pairs = []\n",
        "        forg_pairs = []\n",
        "        gen_gen_labels = []\n",
        "        gen_for_labels = []\n",
        "        all_pairs = []\n",
        "        all_labels = []\n",
        "        \n",
        "        # Here we create pairs of Genuine-Genuine image names and Genuine-Forged image names\n",
        "        # For every person we have 24 genuine signatures, hence we have \n",
        "        # 24 choose 2 = 276 Genuine-Genuine image pairs for one person.\n",
        "        # To make Genuine-Forged pairs, we pair every Genuine signature of a person\n",
        "        # with 12 randomly sampled Forged signatures of the same person.\n",
        "        # Thus we make 24 * 12 = 300 Genuine-Forged image pairs for one person.\n",
        "        # In all we have 120 person's data in the training data.\n",
        "        # Total no. of Genuine-Genuine pairs = 120 * 276 = 33120\n",
        "        # Total number of Genuine-Forged pairs = 120 * 300 = 36000\n",
        "        # Total no. of data points = 33120 + 36000 = 69120\n",
        "        for orig, forg in zip(orig_groups, forg_groups):\n",
        "            orig_pairs.extend(list(itertools.combinations(orig, 2)))\n",
        "            for i in range(len(forg)):\n",
        "                forg_pairs.extend(list(itertools.product(orig[i:i+1], random.sample(forg, 12))))\n",
        "        \n",
        "        # Label for Genuine-Genuine pairs is 1\n",
        "        # Label for Genuine-Forged pairs is 0\n",
        "        gen_gen_labels = [1]*len(orig_pairs)\n",
        "        gen_for_labels = [0]*len(forg_pairs)\n",
        "        \n",
        "        # Concatenate all the pairs together along with their labels and shuffle them\n",
        "        all_pairs = orig_pairs + forg_pairs\n",
        "        all_labels = gen_gen_labels + gen_for_labels\n",
        "        del orig_pairs, forg_pairs, gen_gen_labels, gen_for_labels\n",
        "        all_pairs, all_labels = shuffle(all_pairs, all_labels)\n",
        "        \n",
        "        # Note the lists above contain only the image names and\n",
        "        # actual images are loaded and yielded below in batches\n",
        "        # Below we prepare a batch of data points and yield the batch\n",
        "        # In each batch we load \"batch_size\" number of image pairs\n",
        "        # These images are then removed from the original set so that\n",
        "        # they are not added again in the next batch.\n",
        "            \n",
        "        k = 0\n",
        "        pairs=[np.zeros((batch_size, img_h, img_w, 1)) for i in range(2)]\n",
        "        targets=np.zeros((batch_size,))\n",
        "        for ix, pair in enumerate(all_pairs):\n",
        "            img1 = cv2.imread(pair[0], 0)\n",
        "            img2 = cv2.imread(pair[1], 0)\n",
        "            img1 = cv2.resize(img1, (img_w, img_h))\n",
        "            img2 = cv2.resize(img2, (img_w, img_h))\n",
        "            img1 = np.array(img1, dtype = np.float64)\n",
        "            img2 = np.array(img2, dtype = np.float64)\n",
        "            img1 /= 255\n",
        "            img2 /= 255\n",
        "            img1 = img1[..., np.newaxis]\n",
        "            img2 = img2[..., np.newaxis]\n",
        "            pairs[0][k, :, :, :] = img1\n",
        "            pairs[1][k, :, :, :] = img2\n",
        "            targets[k] = all_labels[ix]\n",
        "            k += 1\n",
        "            if k == batch_size:\n",
        "                yield pairs, targets\n",
        "                k = 0\n",
        "                pairs=[np.zeros((batch_size, img_h, img_w, 1)) for i in range(2)]\n",
        "                targets=np.zeros((batch_size,))"
      ],
      "execution_count": 28,
      "outputs": []
    },
    {
      "cell_type": "code",
      "metadata": {
        "id": "eMaOGzbRnWFb"
      },
      "source": [
        "def euclidean_distance(vects):\n",
        "    '''Compute Euclidean Distance between two vectors'''\n",
        "    x, y = vects\n",
        "    return K.sqrt(K.sum(K.square(x - y), axis=1, keepdims=True))"
      ],
      "execution_count": 29,
      "outputs": []
    },
    {
      "cell_type": "code",
      "metadata": {
        "id": "q2QzzPdsnWFd"
      },
      "source": [
        "def eucl_dist_output_shape(shapes):\n",
        "    shape1, shape2 = shapes\n",
        "    return (shape1[0], 1)"
      ],
      "execution_count": 30,
      "outputs": []
    },
    {
      "cell_type": "code",
      "metadata": {
        "id": "YZogiZ3UnWFf"
      },
      "source": [
        "def contrastive_loss(y_true, y_pred):\n",
        "    '''Contrastive loss from Hadsell-et-al.'06\n",
        "    Source: http://yann.lecun.com/exdb/publis/pdf/hadsell-chopra-lecun-06.pdf\n",
        "    \n",
        "    Explanation:\n",
        "    When ytrue is 1, that means the sample are duplicates of each other, \n",
        "    so the Euclidean distance (ypred) between their outputs must be minimized.\n",
        "    So the loss is taken as the square of that Euclidean distance itself - K.square(y_pred).\n",
        "    When ytrue is 0, i.e. the samples are not duplicates, then the Euclidean distance \n",
        "    between them must be maximized, at least to the margin. So the loss to be minimized\n",
        "    is the difference of the margin and the Euclidean distance - (margin - y_pred).\n",
        "    If the Euclidean distance (ypred) is already greater than the margin, \n",
        "    then nothing is to be learned, so the loss is made to be zero in \n",
        "    that case by saying K.maximum(margin - y_pred, 0).\n",
        "    '''\n",
        "    margin = 1\n",
        "    return K.mean(y_true * K.square(y_pred) + (1 - y_true) * K.square(K.maximum(margin - y_pred, 0)))"
      ],
      "execution_count": 31,
      "outputs": []
    },
    {
      "cell_type": "code",
      "metadata": {
        "id": "X_ZCMO1PnWFg"
      },
      "source": [
        "def create_base_network_signet(input_shape):\n",
        "    '''Base Siamese Network'''\n",
        "    \n",
        "    seq = Sequential()\n",
        "    seq.add(Conv2D(96, kernel_size=(11, 11), activation='relu', name='conv1_1', strides=4, input_shape= input_shape))\n",
        "    seq.add(BatchNormalization())\n",
        "    seq.add(MaxPooling2D((3,3), strides=(2, 2)))    \n",
        "    seq.add(ZeroPadding2D((2, 2)))\n",
        "    \n",
        "    seq.add(Conv2D(256, kernel_size=(5, 5), activation='relu', name='conv2_1'))\n",
        "    seq.add(BatchNormalization())\n",
        "    seq.add(MaxPooling2D((3,3), strides=(2, 2)))\n",
        "    seq.add(Dropout(0.3))\n",
        "    seq.add(ZeroPadding2D((1, 1)))\n",
        "    \n",
        "    seq.add(Conv2D(384, kernel_size=(3, 3), activation='relu', name='conv3_1'))\n",
        "    seq.add(ZeroPadding2D((1, 1)))\n",
        "    \n",
        "    seq.add(Conv2D(256, kernel_size=(3, 3), activation='relu', name='conv3_2'))    \n",
        "    seq.add(MaxPooling2D((3,3), strides=(2, 2)))\n",
        "    seq.add(Dropout(0.3))\n",
        "    seq.add(Flatten(name='flatten'))\n",
        "    seq.add(Dense(1024, activation='relu'))\n",
        "    seq.add(Dropout(0.5))\n",
        "    \n",
        "    seq.add(Dense(128, activation='relu')) # softmax changed to relu\n",
        "    \n",
        "    return seq"
      ],
      "execution_count": 32,
      "outputs": []
    },
    {
      "cell_type": "code",
      "metadata": {
        "id": "ATNgZH4DnWFi"
      },
      "source": [
        "input_shape=(img_h, img_w, 1)"
      ],
      "execution_count": 33,
      "outputs": []
    },
    {
      "cell_type": "code",
      "metadata": {
        "id": "fERanusdnWFk"
      },
      "source": [
        "# network definition\n",
        "base_network = create_base_network_signet(input_shape)\n",
        "\n",
        "input_a = Input(shape=(input_shape))\n",
        "input_b = Input(shape=(input_shape))\n",
        "\n",
        "# because we re-use the same instance `base_network`,\n",
        "# the weights of the network\n",
        "# will be shared across the two branches\n",
        "processed_a = base_network(input_a)\n",
        "processed_b = base_network(input_b)\n",
        "\n",
        "# Compute the Euclidean distance between the two vectors in the latent space\n",
        "distance = Lambda(euclidean_distance, output_shape=eucl_dist_output_shape)([processed_a, processed_b])\n",
        "\n",
        "model = Model(inputs=[input_a, input_b], outputs=distance)"
      ],
      "execution_count": 37,
      "outputs": []
    },
    {
      "cell_type": "code",
      "metadata": {
        "id": "VD6jzf-XnWFn",
        "outputId": "829a0f73-32fe-477f-99ef-c25021a0b7a0",
        "colab": {
          "base_uri": "https://localhost:8080/",
          "height": 34
        }
      },
      "source": [
        "batch_sz = 128\n",
        "num_train_samples = 276*120 + 300*120\n",
        "num_val_samples = num_test_samples = 276*20 + 300*20\n",
        "num_train_samples, num_val_samples, num_test_samples"
      ],
      "execution_count": 38,
      "outputs": [
        {
          "output_type": "execute_result",
          "data": {
            "text/plain": [
              "(69120, 11520, 11520)"
            ]
          },
          "metadata": {
            "tags": []
          },
          "execution_count": 38
        }
      ]
    },
    {
      "cell_type": "code",
      "metadata": {
        "id": "eGGpGBl-nWFq"
      },
      "source": [
        "# compile model using RMSProp Optimizer and Contrastive loss function defined above\n",
        "rms = RMSprop(lr=1e-4, rho=0.9, epsilon=1e-08)\n",
        "model.compile(loss=contrastive_loss, optimizer=rms)"
      ],
      "execution_count": 39,
      "outputs": []
    },
    {
      "cell_type": "code",
      "metadata": {
        "id": "Ez4LVXT3nWFs"
      },
      "source": [
        "# Using Keras Callbacks, save the model after every epoch\n",
        "# Reduce the learning rate by a factor of 0.1 if the validation loss does not improve for 5 epochs\n",
        "# Stop the training using early stopping if the validation loss does not improve for 12 epochs\n",
        "callbacks = [\n",
        "    EarlyStopping(patience=12, verbose=1),\n",
        "    ReduceLROnPlateau(factor=0.1, patience=5, min_lr=0.000001, verbose=1),\n",
        "    ModelCheckpoint('./signet-bhsig260-{epoch:03d}.h5', verbose=1, save_weights_only=True)\n",
        "]"
      ],
      "execution_count": 40,
      "outputs": []
    },
    {
      "cell_type": "code",
      "metadata": {
        "id": "yU3jpTHWnWFt",
        "outputId": "7fa78e93-dbda-425f-f49f-93bf6d033707",
        "colab": {
          "base_uri": "https://localhost:8080/",
          "height": 1000
        }
      },
      "source": [
        "results = model.fit_generator(generate_batch(orig_train, forg_train, batch_sz),\n",
        "                              steps_per_epoch = num_train_samples//batch_sz,\n",
        "                              epochs = 20,\n",
        "                              validation_data = generate_batch(orig_val, forg_val, batch_sz),\n",
        "                              validation_steps = num_val_samples//batch_sz,\n",
        "                              callbacks = callbacks)"
      ],
      "execution_count": 41,
      "outputs": [
        {
          "output_type": "stream",
          "text": [
            "WARNING:tensorflow:From <ipython-input-41-8bd7cc2732d4>:6: Model.fit_generator (from tensorflow.python.keras.engine.training) is deprecated and will be removed in a future version.\n",
            "Instructions for updating:\n",
            "Please use Model.fit, which supports generators.\n",
            "Epoch 1/20\n",
            "540/540 [==============================] - ETA: 0s - loss: 2.5001\n",
            "Epoch 00001: saving model to ./signet-bhsig260-001.h5\n",
            "540/540 [==============================] - 215s 398ms/step - loss: 2.5001 - val_loss: 0.4215\n",
            "Epoch 2/20\n",
            "540/540 [==============================] - ETA: 0s - loss: 0.1313\n",
            "Epoch 00002: saving model to ./signet-bhsig260-002.h5\n",
            "540/540 [==============================] - 218s 404ms/step - loss: 0.1313 - val_loss: 0.2648\n",
            "Epoch 3/20\n",
            "540/540 [==============================] - ETA: 0s - loss: 0.0634\n",
            "Epoch 00003: saving model to ./signet-bhsig260-003.h5\n",
            "540/540 [==============================] - 221s 409ms/step - loss: 0.0634 - val_loss: 0.2260\n",
            "Epoch 4/20\n",
            "540/540 [==============================] - ETA: 0s - loss: 0.0346\n",
            "Epoch 00004: saving model to ./signet-bhsig260-004.h5\n",
            "540/540 [==============================] - 220s 407ms/step - loss: 0.0346 - val_loss: 0.2100\n",
            "Epoch 5/20\n",
            "540/540 [==============================] - ETA: 0s - loss: 0.0217\n",
            "Epoch 00005: saving model to ./signet-bhsig260-005.h5\n",
            "540/540 [==============================] - 216s 400ms/step - loss: 0.0217 - val_loss: 0.2475\n",
            "Epoch 6/20\n",
            "540/540 [==============================] - ETA: 0s - loss: 0.0158\n",
            "Epoch 00006: saving model to ./signet-bhsig260-006.h5\n",
            "540/540 [==============================] - 218s 403ms/step - loss: 0.0158 - val_loss: 0.2341\n",
            "Epoch 7/20\n",
            "540/540 [==============================] - ETA: 0s - loss: 0.0121\n",
            "Epoch 00007: saving model to ./signet-bhsig260-007.h5\n",
            "540/540 [==============================] - 219s 406ms/step - loss: 0.0121 - val_loss: 0.4058\n",
            "Epoch 8/20\n",
            "540/540 [==============================] - ETA: 0s - loss: 0.0090\n",
            "Epoch 00008: saving model to ./signet-bhsig260-008.h5\n",
            "540/540 [==============================] - 218s 404ms/step - loss: 0.0090 - val_loss: 0.1792\n",
            "Epoch 9/20\n",
            "540/540 [==============================] - ETA: 0s - loss: 0.0078\n",
            "Epoch 00009: saving model to ./signet-bhsig260-009.h5\n",
            "540/540 [==============================] - 223s 414ms/step - loss: 0.0078 - val_loss: 0.4547\n",
            "Epoch 10/20\n",
            "540/540 [==============================] - ETA: 0s - loss: 0.0063\n",
            "Epoch 00010: saving model to ./signet-bhsig260-010.h5\n",
            "540/540 [==============================] - 224s 415ms/step - loss: 0.0063 - val_loss: 0.3797\n",
            "Epoch 11/20\n",
            "540/540 [==============================] - ETA: 0s - loss: 0.0053\n",
            "Epoch 00011: saving model to ./signet-bhsig260-011.h5\n",
            "540/540 [==============================] - 222s 411ms/step - loss: 0.0053 - val_loss: 0.2247\n",
            "Epoch 12/20\n",
            "540/540 [==============================] - ETA: 0s - loss: 0.0052\n",
            "Epoch 00012: saving model to ./signet-bhsig260-012.h5\n",
            "540/540 [==============================] - 222s 411ms/step - loss: 0.0052 - val_loss: 0.5000\n",
            "Epoch 13/20\n",
            "540/540 [==============================] - ETA: 0s - loss: 0.0044\n",
            "Epoch 00013: ReduceLROnPlateau reducing learning rate to 9.999999747378752e-06.\n",
            "\n",
            "Epoch 00013: saving model to ./signet-bhsig260-013.h5\n",
            "540/540 [==============================] - 222s 411ms/step - loss: 0.0044 - val_loss: 0.3329\n",
            "Epoch 14/20\n",
            "540/540 [==============================] - ETA: 0s - loss: 0.0017\n",
            "Epoch 00014: saving model to ./signet-bhsig260-014.h5\n",
            "540/540 [==============================] - 221s 410ms/step - loss: 0.0017 - val_loss: 0.1904\n",
            "Epoch 15/20\n",
            "540/540 [==============================] - ETA: 0s - loss: 0.0014\n",
            "Epoch 00015: saving model to ./signet-bhsig260-015.h5\n",
            "540/540 [==============================] - 223s 414ms/step - loss: 0.0014 - val_loss: 0.2488\n",
            "Epoch 16/20\n",
            "540/540 [==============================] - ETA: 0s - loss: 0.0012\n",
            "Epoch 00016: saving model to ./signet-bhsig260-016.h5\n",
            "540/540 [==============================] - 225s 416ms/step - loss: 0.0012 - val_loss: 0.1821\n",
            "Epoch 17/20\n",
            "540/540 [==============================] - ETA: 0s - loss: 0.0012\n",
            "Epoch 00017: saving model to ./signet-bhsig260-017.h5\n",
            "540/540 [==============================] - 223s 413ms/step - loss: 0.0012 - val_loss: 0.2322\n",
            "Epoch 18/20\n",
            "540/540 [==============================] - ETA: 0s - loss: 0.0011\n",
            "Epoch 00018: ReduceLROnPlateau reducing learning rate to 1e-06.\n",
            "\n",
            "Epoch 00018: saving model to ./signet-bhsig260-018.h5\n",
            "540/540 [==============================] - 219s 405ms/step - loss: 0.0011 - val_loss: 0.1932\n",
            "Epoch 19/20\n",
            "540/540 [==============================] - ETA: 0s - loss: 0.0011\n",
            "Epoch 00019: saving model to ./signet-bhsig260-019.h5\n",
            "540/540 [==============================] - 215s 397ms/step - loss: 0.0011 - val_loss: 0.1942\n",
            "Epoch 20/20\n",
            "540/540 [==============================] - ETA: 0s - loss: 0.0010\n",
            "Epoch 00020: saving model to ./signet-bhsig260-020.h5\n",
            "540/540 [==============================] - 213s 394ms/step - loss: 0.0010 - val_loss: 0.1869\n",
            "Epoch 00020: early stopping\n"
          ],
          "name": "stdout"
        }
      ]
    },
    {
      "cell_type": "markdown",
      "metadata": {
        "id": "8-P6xy_JJk3e"
      },
      "source": [
        "### Accuracy ROC"
      ]
    },
    {
      "cell_type": "code",
      "metadata": {
        "id": "H6sQrs2VnWFx"
      },
      "source": [
        "def compute_accuracy_roc(predictions, labels):\n",
        "    '''Compute ROC accuracy with a range of thresholds on distances.\n",
        "    '''\n",
        "    dmax = np.max(predictions)\n",
        "    dmin = np.min(predictions)\n",
        "    nsame = np.sum(labels == 1)\n",
        "    ndiff = np.sum(labels == 0)\n",
        "   \n",
        "    step = 0.01\n",
        "    max_acc = 0\n",
        "    best_thresh = -1\n",
        "   \n",
        "    for d in np.arange(dmin, dmax+step, step):\n",
        "        idx1 = predictions.ravel() <= d\n",
        "        idx2 = predictions.ravel() > d\n",
        "       \n",
        "        tpr = float(np.sum(labels[idx1] == 1)) / nsame       \n",
        "        tnr = float(np.sum(labels[idx2] == 0)) / ndiff\n",
        "        acc = 0.5 * (tpr + tnr)       \n",
        "#       print ('ROC', acc, tpr, tnr)\n",
        "       \n",
        "        if (acc > max_acc):\n",
        "            max_acc, best_thresh = acc, d\n",
        "           \n",
        "    return max_acc, best_thresh"
      ],
      "execution_count": 42,
      "outputs": []
    },
    {
      "cell_type": "markdown",
      "metadata": {
        "id": "XYtVsXTtnWFy"
      },
      "source": [
        "#### Load the weights from the epoch which gave the best validation accuracy"
      ]
    },
    {
      "cell_type": "code",
      "metadata": {
        "id": "ZNp3lXV7nWFy"
      },
      "source": [
        "model.load_weights('./signet-bhsig260-001.h5')"
      ],
      "execution_count": 43,
      "outputs": []
    },
    {
      "cell_type": "code",
      "metadata": {
        "id": "khoJxhf4nWF0"
      },
      "source": [
        "test_gen = generate_batch(orig_test, forg_test, 1)\n",
        "pred, tr_y = [], []\n",
        "for i in range(num_test_samples):\n",
        "    (img1, img2), label = next(test_gen)\n",
        "    tr_y.append(label)\n",
        "    pred.append(model.predict([img1, img2])[0][0])"
      ],
      "execution_count": 48,
      "outputs": []
    },
    {
      "cell_type": "code",
      "metadata": {
        "id": "oHfM7N0OnWF1",
        "outputId": "d9db01f5-0b15-4f2c-b319-7fcf49040e6e",
        "colab": {
          "base_uri": "https://localhost:8080/",
          "height": 34
        }
      },
      "source": [
        "tr_acc, threshold = compute_accuracy_roc(np.array(pred), np.array(tr_y))\n",
        "tr_acc, threshold"
      ],
      "execution_count": 49,
      "outputs": [
        {
          "output_type": "execute_result",
          "data": {
            "text/plain": [
              "(0.6261980830670926, 0.07017780294001569)"
            ]
          },
          "metadata": {
            "tags": []
          },
          "execution_count": 49
        }
      ]
    },
    {
      "cell_type": "markdown",
      "metadata": {
        "id": "xSP7Z6hDnWF4"
      },
      "source": [
        "#### Accuracy = 62.61% and Threshold = 0.0701\n",
        "Thus if the differnce score is less than 0.0701, we predict the test image as Genuine and if the difference score is greater than 0.0701, we predict it to be as forged\n",
        "\n",
        "#### Below we see some sample results"
      ]
    },
    {
      "cell_type": "code",
      "metadata": {
        "id": "ut9LUxfZnWF5"
      },
      "source": [
        "def predict_score():\n",
        "    '''Predict distance score and classify test images as Genuine or Forged'''\n",
        "    test_point, test_label = next(test_gen)\n",
        "    img1, img2 = test_point[0], test_point[1]\n",
        "    \n",
        "    fig, (ax1, ax2) = plt.subplots(1, 2, figsize = (10, 10))\n",
        "    ax1.imshow(np.squeeze(img1), cmap='gray')\n",
        "    ax2.imshow(np.squeeze(img2), cmap='gray')\n",
        "    ax1.set_title('Genuine')\n",
        "    if test_label == 1:\n",
        "        ax2.set_title('Genuine')\n",
        "    else:\n",
        "        ax2.set_title('Forged')\n",
        "    ax1.axis('off')\n",
        "    ax2.axis('off')\n",
        "    plt.show()\n",
        "    result = model.predict([img1, img2])\n",
        "    diff = result[0][0]\n",
        "    print(\"Difference Score = \", diff)\n",
        "    if diff > threshold:\n",
        "        print(\"Its a Forged Signature\")\n",
        "    else:\n",
        "        print(\"Its a Genuine Signature\")"
      ],
      "execution_count": 50,
      "outputs": []
    },
    {
      "cell_type": "code",
      "metadata": {
        "id": "cHGCy1EEnWF8",
        "outputId": "5d562a7c-cf7a-4881-dbf8-0f0211809535",
        "colab": {
          "base_uri": "https://localhost:8080/",
          "height": 260
        }
      },
      "source": [
        "predict_score()"
      ],
      "execution_count": 63,
      "outputs": [
        {
          "output_type": "display_data",
          "data": {
            "image/png": "[encoded data removed]",
            "text/plain": [
              "<Figure size 720x720 with 2 Axes>"
            ]
          },
          "metadata": {
            "tags": [],
            "needs_background": "light"
          }
        },
        {
          "output_type": "stream",
          "text": [
            "Difference Score =  0.041952256\n",
            "Its a Genuine Signature\n"
          ],
          "name": "stdout"
        }
      ]
    },
    {
      "cell_type": "markdown",
      "metadata": {
        "id": "2iSJxGC_nWGB"
      },
      "source": [
        "### Note: The first image is always Genuine. Score prediction and classification is done for the second image"
      ]
    },
    {
      "cell_type": "code",
      "metadata": {
        "id": "KZZeA1SnnWGF",
        "outputId": "e11a3d46-105a-400d-8d16-cbca2ba8e965",
        "colab": {
          "base_uri": "https://localhost:8080/",
          "height": 260
        }
      },
      "source": [
        "predict_score()"
      ],
      "execution_count": 62,
      "outputs": [
        {
          "output_type": "display_data",
          "data": {
            "image/png": "[encoded data removed]",
            "text/plain": [
              "<Figure size 720x720 with 2 Axes>"
            ]
          },
          "metadata": {
            "tags": [],
            "needs_background": "light"
          }
        },
        {
          "output_type": "stream",
          "text": [
            "Difference Score =  0.032094713\n",
            "Its a Genuine Signature\n"
          ],
          "name": "stdout"
        }
      ]
    },
    {
      "cell_type": "code",
      "metadata": {
        "id": "_VWmvVlGnWGI",
        "outputId": "1e96eaf3-6a7a-44bf-d48e-2eaaed3ee1f6",
        "colab": {
          "base_uri": "https://localhost:8080/",
          "height": 260
        }
      },
      "source": [
        "predict_score()"
      ],
      "execution_count": 53,
      "outputs": [
        {
          "output_type": "display_data",
          "data": {
            "image/png": "[encoded data removed]",
            "text/plain": [
              "<Figure size 720x720 with 2 Axes>"
            ]
          },
          "metadata": {
            "tags": [],
            "needs_background": "light"
          }
        },
        {
          "output_type": "stream",
          "text": [
            "Difference Score =  0.11311946\n",
            "Its a Forged Signature\n"
          ],
          "name": "stdout"
        }
      ]
    },
    {
      "cell_type": "code",
      "metadata": {
        "id": "C8ICcWijnWGM",
        "outputId": "e2563ae8-186d-471a-9ac7-5d93695b8561",
        "colab": {
          "base_uri": "https://localhost:8080/",
          "height": 260
        }
      },
      "source": [
        "predict_score()"
      ],
      "execution_count": 60,
      "outputs": [
        {
          "output_type": "display_data",
          "data": {
            "image/png": "[encoded data removed]",
            "text/plain": [
              "<Figure size 720x720 with 2 Axes>"
            ]
          },
          "metadata": {
            "tags": [],
            "needs_background": "light"
          }
        },
        {
          "output_type": "stream",
          "text": [
            "Difference Score =  0.08421422\n",
            "Its a Forged Signature\n"
          ],
          "name": "stdout"
        }
      ]
    },
    {
      "cell_type": "code",
      "metadata": {
        "id": "TwhALSBUBy7p"
      },
      "source": [
        ""
      ],
      "execution_count": 57,
      "outputs": []
    }
  ]
}